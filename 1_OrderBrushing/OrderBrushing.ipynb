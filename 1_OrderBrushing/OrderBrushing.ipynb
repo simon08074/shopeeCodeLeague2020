{
 "cells": [
  {
   "cell_type": "code",
   "execution_count": null,
   "metadata": {},
   "outputs": [],
   "source": [
    "import pandas as pd\n",
    "import datetime\n",
    "from datetime import timedelta"
   ]
  },
  {
   "cell_type": "code",
   "execution_count": null,
   "metadata": {},
   "outputs": [],
   "source": [
    "df = pd.read_csv('order_brush_order.csv')\n",
    "df.head()"
   ]
  },
  {
   "cell_type": "markdown",
   "metadata": {},
   "source": [
    "# process\n",
    "- turn id datatype to string\n",
    "- find order brushing for each shop"
   ]
  },
  {
   "cell_type": "code",
   "execution_count": null,
   "metadata": {},
   "outputs": [],
   "source": [
    "# adjust datatype\n",
    "df['orderid'] = df['orderid'].astype(str)\n",
    "df['shopid'] = df['shopid'].astype(str)\n",
    "df['userid'] = df['userid'].astype(str)"
   ]
  },
  {
   "cell_type": "code",
   "execution_count": null,
   "metadata": {},
   "outputs": [],
   "source": [
    "shopList = list(df['shopid'].unique())\n",
    "shopN = len(shopList)\n",
    "res = {}\n",
    "\n",
    "for idx, shopid in enumerate(shopList):\n",
    "    # inform\n",
    "    print('start to check idx: %s, shopid: %s ...' % (idx, shopid), end='')\n",
    "    \n",
    "    # sort order by event time\n",
    "    dfShop = df[df['shopid'] == shopid].sort_values('event_time', ascending=True)\n",
    "    \n",
    "    # tmp storage for order brushing user\n",
    "    tmpRes = None\n",
    "    \n",
    "    # by shop, traverse order and check order brushing\n",
    "    for orderid, _shopid, userid, event_time in dfShop.values:\n",
    "        \n",
    "        ### previous 1 hour (current order as 1 hour end)\n",
    "        start_time = datetime.datetime.strptime(event_time, '%Y-%m-%d %H:%M:%S') + timedelta(seconds=-3600) # 1 hour\n",
    "        tmpdf_ = dfShop[(dfShop['event_time'] >= str(start_time)) & (dfShop['event_time'] <= event_time)]\n",
    "        \n",
    "        # detect order brushing\n",
    "        if len(tmpdf_)/len(tmpdf_['userid'].unique()) >= 3:\n",
    "            if isinstance(tmpRes, pd.DataFrame):\n",
    "                tmpRes = tmpdf_\n",
    "            else:\n",
    "                tmpRes = pd.concat([tmpRes, tmpdf_])\n",
    "        else :\n",
    "            continue\n",
    "            \n",
    "        ### next 1 hour (current order as 1 hour start)\n",
    "        end_time = datetime.datetime.strptime(event_time, '%Y-%m-%d %H:%M:%S') + timedelta(seconds=3600) # 1 hour\n",
    "        tmpdf_ = dfShop[(dfShop['event_time'] >= event_time) & (dfShop['event_time'] < str(end_time))]\n",
    "        \n",
    "        # detect order brushing\n",
    "        if len(tmpdf_)/len(tmpdf_['userid'].unique()) >= 3:\n",
    "            if isinstance(tmpRes, pd.DataFrame):\n",
    "                tmpRes = tmpdf_\n",
    "            else:\n",
    "                tmpRes = pd.concat([tmpRes, tmpdf_])\n",
    "        else :\n",
    "            continue\n",
    "        \n",
    "    # postprocess tmpRes to find suspicious buyer (or buyers)    \n",
    "    if isinstance(tmpRes, pd.DataFrame):\n",
    "        tmpRes = tmpRes.drop_duplicates()\n",
    "        tmpRes = tmpRes.groupby('userid').count()\n",
    "        ans = list(tmpRes[tmpRes['orderid'] == tmpRes['orderid'].max()].reset_index().sort_values('userid', ascending=True)['userid'].unique())\n",
    "        res[shopid] = '&'.join(ans)\n",
    "    else :\n",
    "        res[shopid] = '0'\n",
    "    \n",
    "    # inform\n",
    "    print('finish (%s / %s), ans : %s' % (idx+1, shopN, res[shopid]))\n"
   ]
  },
  {
   "cell_type": "markdown",
   "metadata": {},
   "source": [
    "# Post-process\n",
    "- create submission dataframe\n",
    "- output as submission file"
   ]
  },
  {
   "cell_type": "code",
   "execution_count": null,
   "metadata": {},
   "outputs": [],
   "source": [
    "keys = []\n",
    "values = []\n",
    "for key, value  in res.items():\n",
    "    keys.append(key)\n",
    "    values.append(value)"
   ]
  },
  {
   "cell_type": "code",
   "execution_count": null,
   "metadata": {},
   "outputs": [],
   "source": [
    "resDf = pd.DataFrame({'shopid':keys, 'userid':values})\n",
    "resDf.to_csv('submission.csv', index=False)"
   ]
  }
 ],
 "metadata": {
  "kernelspec": {
   "display_name": "Python 3",
   "language": "python",
   "name": "python3"
  },
  "language_info": {
   "codemirror_mode": {
    "name": "ipython",
    "version": 3
   },
   "file_extension": ".py",
   "mimetype": "text/x-python",
   "name": "python",
   "nbconvert_exporter": "python",
   "pygments_lexer": "ipython3",
   "version": "3.7.1"
  }
 },
 "nbformat": 4,
 "nbformat_minor": 2
}
