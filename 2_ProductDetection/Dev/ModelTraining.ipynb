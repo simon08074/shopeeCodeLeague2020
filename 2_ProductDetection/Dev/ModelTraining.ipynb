{
 "cells": [
  {
   "cell_type": "raw",
   "metadata": {},
   "source": [
    "from pytorchcv.model_provider import get_model as ptcv_get_model\n",
    "import torch\n",
    "from torch.autograd import Variable\n",
    "\n",
    "import numpy as np"
   ]
  },
  {
   "cell_type": "raw",
   "metadata": {},
   "source": [
    "net = ptcv_get_model(\"resnet18\", pretrained=True)\n",
    "x = Variable(torch.randn(1, 3, 224, 224))\n",
    "y = net(x)"
   ]
  },
  {
   "cell_type": "markdown",
   "metadata": {},
   "source": [
    "# EfficientNet backbone"
   ]
  },
  {
   "cell_type": "code",
   "execution_count": null,
   "metadata": {},
   "outputs": [],
   "source": [
    "import numpy as np"
   ]
  },
  {
   "cell_type": "code",
   "execution_count": null,
   "metadata": {},
   "outputs": [],
   "source": [
    "from DatasetLoader import DatasetLoader"
   ]
  },
  {
   "cell_type": "code",
   "execution_count": null,
   "metadata": {},
   "outputs": [],
   "source": [
    "datasetloader = DatasetLoader(dataset_root='../dataset/', img_resize=(224,224))"
   ]
  },
  {
   "cell_type": "code",
   "execution_count": null,
   "metadata": {},
   "outputs": [],
   "source": [
    "images, labels = datasetloader.loadTrain(sample_n=5000, sample_random_state=666)"
   ]
  },
  {
   "cell_type": "code",
   "execution_count": null,
   "metadata": {},
   "outputs": [],
   "source": [
    "# fit pyTorch input \n",
    "features = np.transpose(images, (0,3,1,2))\n",
    "features.shape"
   ]
  },
  {
   "cell_type": "code",
   "execution_count": null,
   "metadata": {},
   "outputs": [],
   "source": [
    "from sklearn.model_selection import train_test_split\n",
    "X_train, X_test, y_train, y_test = train_test_split(features, labels, test_size=0.05, random_state=42)"
   ]
  },
  {
   "cell_type": "markdown",
   "metadata": {},
   "source": [
    "### PyTorch dataset and loader"
   ]
  },
  {
   "cell_type": "code",
   "execution_count": null,
   "metadata": {},
   "outputs": [],
   "source": [
    "import torch\n",
    "from torch.utils.data import TensorDataset, DataLoader"
   ]
  },
  {
   "cell_type": "code",
   "execution_count": null,
   "metadata": {},
   "outputs": [],
   "source": [
    "# train\n",
    "dataset = TensorDataset(torch.FloatTensor(X_train), torch.LongTensor(y_train))\n",
    "loader = DataLoader(dataset, batch_size=100, shuffle=True)"
   ]
  },
  {
   "cell_type": "code",
   "execution_count": null,
   "metadata": {},
   "outputs": [],
   "source": [
    "# test\n",
    "X_test, y_test = torch.FloatTensor(X_test), torch.LongTensor(y_test)"
   ]
  },
  {
   "cell_type": "markdown",
   "metadata": {},
   "source": [
    "# Model Training"
   ]
  },
  {
   "cell_type": "code",
   "execution_count": null,
   "metadata": {},
   "outputs": [],
   "source": [
    "import torch\n",
    "from torch import nn\n",
    "from torch.autograd import Variable\n",
    "import torch.nn.functional as F\n",
    "\n",
    "from efficientnet_pytorch import EfficientNet\n",
    "\n",
    "\n",
    "\n",
    "class predictor_EfficientNet(nn.Module):\n",
    "    def __init__(self, img_size = (224,224), n_classes=42):\n",
    "        super().__init__()\n",
    "        \n",
    "        self.n_classes = n_classes\n",
    "        self.img_size = img_size\n",
    "        \n",
    "        # load/freeze backbone\n",
    "        self.backbone = None\n",
    "        self._loadBackbone()\n",
    "        self._freezeBackbone()\n",
    "        \n",
    "        # predictor\n",
    "        ## b0\n",
    "#         self._dropout = nn.Dropout(0.2)\n",
    "#         self._fc = nn.Linear(1280, self.n_classes)\n",
    "        \n",
    "        ## b3\n",
    "        self._avg_pooling = nn.AdaptiveAvgPool2d(1)\n",
    "        self._dropout = nn.Dropout(0.3)\n",
    "        self._fc = nn.Linear(1536, self.n_classes)\n",
    "    \n",
    "        ## b7\n",
    "#         self._avg_pooling = nn.AdaptiveAvgPool2d(1)\n",
    "#         self._dropout = nn.Dropout(0.5)\n",
    "#         self._fc = nn.Linear(2560, self.n_classes)\n",
    "        \n",
    "        \n",
    "    def forward(self, x):\n",
    "        bs = x.shape[0] # batch size\n",
    "        \n",
    "        # feature extractor\n",
    "        x = self.backbone.extract_features(x)\n",
    "        \n",
    "        # predictor\n",
    "        x = self._avg_pooling(x)\n",
    "        x = x.view(bs, -1)\n",
    "        x = self._dropout(x)\n",
    "        x = self._fc(x)\n",
    "        \n",
    "        return x\n",
    "        \n",
    "    def _loadBackbone(self):\n",
    "        self.backbone = EfficientNet.from_pretrained('efficientnet-b3')\n",
    "        \n",
    "    def _freezeBackbone(self):\n",
    "        for param in self.backbone.parameters():\n",
    "            param.requires_grad = False\n",
    "        \n",
    "model = predictor_EfficientNet()"
   ]
  },
  {
   "cell_type": "code",
   "execution_count": null,
   "metadata": {},
   "outputs": [],
   "source": [
    "from torch import optim\n",
    "from torch import nn\n",
    "\n",
    "# epoch\n",
    "epochs = 100\n",
    "optimizer = optim.Adam(model.parameters(), lr=1e-3)\n",
    "CE_loss = nn.CrossEntropyLoss()\n",
    "\n",
    "# check GPU\n",
    "gpu_mode = torch.cuda.is_available()\n",
    "if gpu_mode:\n",
    "    model.cuda()\n",
    "    CE_loss = CE_loss.cuda()\n",
    "    X_test, y_test = X_test.cuda(), y_test.cuda()\n",
    "\n",
    "log = {'train_loss':[], 'valid_loss':[], 'valid_accuracy':[]}\n",
    "\n",
    "for epoch in range(epochs):\n",
    "    acc_loss = 0.\n",
    "    model.train()\n",
    "    for x, y in loader:\n",
    "        if gpu_mode:\n",
    "            x, y = x.cuda(), y.cuda()\n",
    "        \n",
    "        y_ = model(x)\n",
    "        loss = CE_loss(y_, y)\n",
    "        loss.backward()\n",
    "        optimizer.step()\n",
    "        \n",
    "        acc_loss += loss.item()\n",
    "    \n",
    "\n",
    "    model.eval()\n",
    "    # check loss    \n",
    "    y_pred = model(X_test)\n",
    "    val_loss = CE_loss(y_pred, y_test)\n",
    "    # check accuracy\n",
    "    _, pred = torch.max(y_pred, 1)\n",
    "    accuracy = ((pred == y_test).sum()).item()/len(y_test)\n",
    "    \n",
    "    # log\n",
    "    train_loss = acc_loss/len(dataset)\n",
    "    valid_loss = val_loss/len(y_test)\n",
    "    \n",
    "    print('[%s] finish ! train loss : %.4f , valid loss : %.4f, valid accuracy : %.4f%%' % \n",
    "          (epoch, train_loss, valid_loss, 100 * accuracy))\n",
    "    \n",
    "    log['train_loss'].append(train_loss)\n",
    "    log['valid_loss'].append(valid_loss)\n",
    "    log['valid_accuracy'].append(accuracy)\n",
    "        "
   ]
  },
  {
   "cell_type": "markdown",
   "metadata": {},
   "source": [
    "# Submission prediction"
   ]
  },
  {
   "cell_type": "code",
   "execution_count": null,
   "metadata": {},
   "outputs": [],
   "source": [
    "import pickle\n",
    "torch.save(model.state_dict(), './model/EfficientNet/b3_v1.pkl')"
   ]
  },
  {
   "cell_type": "code",
   "execution_count": null,
   "metadata": {},
   "outputs": [],
   "source": []
  }
 ],
 "metadata": {
  "kernelspec": {
   "display_name": "Python 3",
   "language": "python",
   "name": "python3"
  },
  "language_info": {
   "codemirror_mode": {
    "name": "ipython",
    "version": 3
   },
   "file_extension": ".py",
   "mimetype": "text/x-python",
   "name": "python",
   "nbconvert_exporter": "python",
   "pygments_lexer": "ipython3",
   "version": "3.6.9"
  }
 },
 "nbformat": 4,
 "nbformat_minor": 2
}
