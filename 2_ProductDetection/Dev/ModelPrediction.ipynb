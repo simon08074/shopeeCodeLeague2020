{
 "cells": [
  {
   "cell_type": "raw",
   "metadata": {},
   "source": [
    "from pytorchcv.model_provider import get_model as ptcv_get_model\n",
    "import torch\n",
    "from torch.autograd import Variable\n",
    "\n",
    "import numpy as np"
   ]
  },
  {
   "cell_type": "raw",
   "metadata": {},
   "source": [
    "net = ptcv_get_model(\"resnet18\", pretrained=True)\n",
    "x = Variable(torch.randn(1, 3, 224, 224))\n",
    "y = net(x)"
   ]
  },
  {
   "cell_type": "markdown",
   "metadata": {},
   "source": [
    "# EfficientNet backbone"
   ]
  },
  {
   "cell_type": "code",
   "execution_count": 6,
   "metadata": {},
   "outputs": [],
   "source": [
    "import numpy as np"
   ]
  },
  {
   "cell_type": "code",
   "execution_count": 7,
   "metadata": {},
   "outputs": [],
   "source": [
    "from DatasetLoader import DatasetLoader"
   ]
  },
  {
   "cell_type": "code",
   "execution_count": 8,
   "metadata": {},
   "outputs": [],
   "source": [
    "datasetloader = DatasetLoader(dataset_root='../dataset/', img_resize=(224,224))"
   ]
  },
  {
   "cell_type": "code",
   "execution_count": 9,
   "metadata": {},
   "outputs": [
    {
     "name": "stderr",
     "output_type": "stream",
     "text": [
      "100%|██████████| 12186/12186 [02:29<00:00, 81.67it/s]\n"
     ]
    }
   ],
   "source": [
    "filenames, images = datasetloader.loadTest()"
   ]
  },
  {
   "cell_type": "code",
   "execution_count": 10,
   "metadata": {},
   "outputs": [
    {
     "data": {
      "text/plain": [
       "(12186, 3, 224, 224)"
      ]
     },
     "execution_count": 10,
     "metadata": {},
     "output_type": "execute_result"
    }
   ],
   "source": [
    "# fit pyTorch input \n",
    "features = np.transpose(images, (0,3,1,2))\n",
    "features.shape"
   ]
  },
  {
   "cell_type": "markdown",
   "metadata": {},
   "source": [
    "# Model Prediction"
   ]
  },
  {
   "cell_type": "code",
   "execution_count": 37,
   "metadata": {},
   "outputs": [
    {
     "name": "stdout",
     "output_type": "stream",
     "text": [
      "Loaded pretrained weights for efficientnet-b0\n"
     ]
    }
   ],
   "source": [
    "import torch\n",
    "from torch import nn\n",
    "\n",
    "from efficientnet_pytorch import EfficientNet\n",
    "\n",
    "'''\n",
    "reference:\n",
    "https://github.com/lukemelas/EfficientNet-PyTorch\n",
    "'''\n",
    "\n",
    "class predictor_EfficientNet(nn.Module):\n",
    "    def __init__(self, img_size = (224,224), n_classes=42):\n",
    "        super().__init__()\n",
    "        \n",
    "        self.n_classes = n_classes\n",
    "        self.img_size = img_size\n",
    "        \n",
    "        # load/freeze backbone\n",
    "        self.backbone = None\n",
    "        self._loadBackbone()\n",
    "        self._freezeBackbone()\n",
    "        \n",
    "        # predictor\n",
    "        ## b0\n",
    "        self._avg_pooling = nn.AdaptiveAvgPool2d(1)\n",
    "        self._dropout = nn.Dropout(0.2)\n",
    "        self._fc = nn.Linear(1280, self.n_classes)\n",
    "        \n",
    "        ## b3\n",
    "#         self._avg_pooling = nn.AdaptiveAvgPool2d(1)\n",
    "#         self._dropout = nn.Dropout(0.3)\n",
    "#         self._fc = nn.Linear(1536, self.n_classes)\n",
    "    \n",
    "        ## b7\n",
    "#         self._avg_pooling = nn.AdaptiveAvgPool2d(1)\n",
    "#         self._dropout = nn.Dropout(0.5)\n",
    "#         self._fc = nn.Linear(2560, self.n_classes)\n",
    "        \n",
    "        \n",
    "    def forward(self, x):\n",
    "        bs = x.shape[0] # batch size\n",
    "        \n",
    "        # feature extractor\n",
    "        x = self.backbone.extract_features(x)\n",
    "        \n",
    "        # predictor\n",
    "        x = self._avg_pooling(x)\n",
    "        x = x.view(bs, -1)\n",
    "        x = self._dropout(x)\n",
    "        x = self._fc(x)\n",
    "        \n",
    "        return x\n",
    "    \n",
    "    def _loadBackbone(self):\n",
    "        self.backbone = EfficientNet.from_pretrained('efficientnet-b0')\n",
    "        \n",
    "    def _freezeBackbone(self):\n",
    "        for param in self.backbone.parameters():\n",
    "            param.requires_grad = False\n",
    "        \n",
    "model = predictor_EfficientNet()"
   ]
  },
  {
   "cell_type": "code",
   "execution_count": 38,
   "metadata": {},
   "outputs": [],
   "source": [
    "model.load_state_dict(torch.load('./model/EfficientNet/b0_v1.pkl'))"
   ]
  },
  {
   "cell_type": "code",
   "execution_count": 39,
   "metadata": {},
   "outputs": [
    {
     "name": "stdout",
     "output_type": "stream",
     "text": [
      "idx : 0 done\n",
      "idx : 100 done\n",
      "idx : 200 done\n",
      "idx : 300 done\n",
      "idx : 400 done\n",
      "idx : 500 done\n",
      "idx : 600 done\n",
      "idx : 700 done\n",
      "idx : 800 done\n",
      "idx : 900 done\n",
      "idx : 1000 done\n",
      "idx : 1100 done\n",
      "idx : 1200 done\n",
      "idx : 1300 done\n",
      "idx : 1400 done\n",
      "idx : 1500 done\n",
      "idx : 1600 done\n",
      "idx : 1700 done\n",
      "idx : 1800 done\n",
      "idx : 1900 done\n",
      "idx : 2000 done\n",
      "idx : 2100 done\n",
      "idx : 2200 done\n",
      "idx : 2300 done\n",
      "idx : 2400 done\n",
      "idx : 2500 done\n",
      "idx : 2600 done\n",
      "idx : 2700 done\n",
      "idx : 2800 done\n",
      "idx : 2900 done\n",
      "idx : 3000 done\n",
      "idx : 3100 done\n",
      "idx : 3200 done\n",
      "idx : 3300 done\n",
      "idx : 3400 done\n",
      "idx : 3500 done\n",
      "idx : 3600 done\n",
      "idx : 3700 done\n",
      "idx : 3800 done\n",
      "idx : 3900 done\n",
      "idx : 4000 done\n",
      "idx : 4100 done\n",
      "idx : 4200 done\n",
      "idx : 4300 done\n",
      "idx : 4400 done\n",
      "idx : 4500 done\n",
      "idx : 4600 done\n",
      "idx : 4700 done\n",
      "idx : 4800 done\n",
      "idx : 4900 done\n",
      "idx : 5000 done\n",
      "idx : 5100 done\n",
      "idx : 5200 done\n",
      "idx : 5300 done\n",
      "idx : 5400 done\n",
      "idx : 5500 done\n",
      "idx : 5600 done\n",
      "idx : 5700 done\n",
      "idx : 5800 done\n",
      "idx : 5900 done\n",
      "idx : 6000 done\n",
      "idx : 6100 done\n",
      "idx : 6200 done\n",
      "idx : 6300 done\n",
      "idx : 6400 done\n",
      "idx : 6500 done\n",
      "idx : 6600 done\n",
      "idx : 6700 done\n",
      "idx : 6800 done\n",
      "idx : 6900 done\n",
      "idx : 7000 done\n",
      "idx : 7100 done\n",
      "idx : 7200 done\n",
      "idx : 7300 done\n",
      "idx : 7400 done\n",
      "idx : 7500 done\n",
      "idx : 7600 done\n",
      "idx : 7700 done\n",
      "idx : 7800 done\n",
      "idx : 7900 done\n",
      "idx : 8000 done\n",
      "idx : 8100 done\n",
      "idx : 8200 done\n",
      "idx : 8300 done\n",
      "idx : 8400 done\n",
      "idx : 8500 done\n",
      "idx : 8600 done\n",
      "idx : 8700 done\n",
      "idx : 8800 done\n",
      "idx : 8900 done\n",
      "idx : 9000 done\n",
      "idx : 9100 done\n",
      "idx : 9200 done\n",
      "idx : 9300 done\n",
      "idx : 9400 done\n",
      "idx : 9500 done\n",
      "idx : 9600 done\n",
      "idx : 9700 done\n",
      "idx : 9800 done\n",
      "idx : 9900 done\n",
      "idx : 10000 done\n",
      "idx : 10100 done\n",
      "idx : 10200 done\n",
      "idx : 10300 done\n",
      "idx : 10400 done\n",
      "idx : 10500 done\n",
      "idx : 10600 done\n",
      "idx : 10700 done\n",
      "idx : 10800 done\n",
      "idx : 10900 done\n",
      "idx : 11000 done\n",
      "idx : 11100 done\n",
      "idx : 11200 done\n",
      "idx : 11300 done\n",
      "idx : 11400 done\n",
      "idx : 11500 done\n",
      "idx : 11600 done\n",
      "idx : 11700 done\n",
      "idx : 11800 done\n",
      "idx : 11900 done\n",
      "idx : 12000 done\n",
      "idx : 12100 done\n"
     ]
    }
   ],
   "source": [
    "import torch\n",
    "from torch import nn\n",
    "from torch.autograd import Variable\n",
    "\n",
    "# epoch\n",
    "\n",
    "# check GPU\n",
    "gpu_mode = torch.cuda.is_available()\n",
    "if gpu_mode:\n",
    "    model.cuda()\n",
    "    \n",
    "model.eval()\n",
    "\n",
    "interval = 100\n",
    "res = []\n",
    "res_p = []\n",
    "for i in range(0, len(features), interval):\n",
    "    x = torch.FloatTensor(features[i:i+interval])\n",
    "    if gpu_mode:\n",
    "        x = x.cuda()\n",
    "    pred = model(x)\n",
    "    _, pred_ = torch.max(pred, 1)\n",
    "    \n",
    "    res_p += pred.tolist() # shape : (b, 42)\n",
    "    res += pred_.tolist() # shape : (b,)\n",
    "    print('idx : %s done' % i)"
   ]
  },
  {
   "cell_type": "markdown",
   "metadata": {},
   "source": [
    "# Submission"
   ]
  },
  {
   "cell_type": "code",
   "execution_count": 29,
   "metadata": {},
   "outputs": [],
   "source": [
    "import pandas as pd\n",
    "import os"
   ]
  },
  {
   "cell_type": "markdown",
   "metadata": {},
   "source": [
    "### predict actual category for submission"
   ]
  },
  {
   "cell_type": "code",
   "execution_count": 28,
   "metadata": {},
   "outputs": [
    {
     "data": {
      "text/plain": [
       "['20', '27', '04', '22', '39', '20', '04', '39', '13', '33']"
      ]
     },
     "execution_count": 28,
     "metadata": {},
     "output_type": "execute_result"
    }
   ],
   "source": [
    "categories = [str(e) if e >= 10 else '0'+str(e) for e in res]\n",
    "categories[:10]"
   ]
  },
  {
   "cell_type": "code",
   "execution_count": 32,
   "metadata": {},
   "outputs": [
    {
     "ename": "FileExistsError",
     "evalue": "[ERROR] Submission file already exist, please change output path",
     "output_type": "error",
     "traceback": [
      "\u001b[0;31m---------------------------------------------------------------------------\u001b[0m",
      "\u001b[0;31mFileExistsError\u001b[0m                           Traceback (most recent call last)",
      "\u001b[0;32m<ipython-input-32-3fa50f28d389>\u001b[0m in \u001b[0;36m<module>\u001b[0;34m\u001b[0m\n\u001b[1;32m      3\u001b[0m \u001b[0moutput_path\u001b[0m \u001b[0;34m=\u001b[0m \u001b[0;34m'./submission/EfficientNet/b3_v1.csv'\u001b[0m\u001b[0;34m\u001b[0m\u001b[0;34m\u001b[0m\u001b[0m\n\u001b[1;32m      4\u001b[0m \u001b[0;32mif\u001b[0m \u001b[0mos\u001b[0m\u001b[0;34m.\u001b[0m\u001b[0mpath\u001b[0m\u001b[0;34m.\u001b[0m\u001b[0mexists\u001b[0m\u001b[0;34m(\u001b[0m\u001b[0moutput_path\u001b[0m\u001b[0;34m)\u001b[0m\u001b[0;34m:\u001b[0m\u001b[0;34m\u001b[0m\u001b[0;34m\u001b[0m\u001b[0m\n\u001b[0;32m----> 5\u001b[0;31m     \u001b[0;32mraise\u001b[0m \u001b[0mFileExistsError\u001b[0m\u001b[0;34m(\u001b[0m\u001b[0;34m'[ERROR] Submission file already exist, please change output path'\u001b[0m\u001b[0;34m)\u001b[0m\u001b[0;34m\u001b[0m\u001b[0;34m\u001b[0m\u001b[0m\n\u001b[0m\u001b[1;32m      6\u001b[0m \u001b[0;32melse\u001b[0m\u001b[0;34m:\u001b[0m\u001b[0;34m\u001b[0m\u001b[0;34m\u001b[0m\u001b[0m\n\u001b[1;32m      7\u001b[0m     \u001b[0mdf\u001b[0m\u001b[0;34m.\u001b[0m\u001b[0mto_csv\u001b[0m\u001b[0;34m(\u001b[0m\u001b[0moutput_path\u001b[0m\u001b[0;34m,\u001b[0m \u001b[0mindex\u001b[0m\u001b[0;34m=\u001b[0m\u001b[0;32mFalse\u001b[0m\u001b[0;34m)\u001b[0m\u001b[0;34m\u001b[0m\u001b[0;34m\u001b[0m\u001b[0m\n",
      "\u001b[0;31mFileExistsError\u001b[0m: [ERROR] Submission file already exist, please change output path"
     ]
    }
   ],
   "source": [
    "# to df\n",
    "df = pd.DataFrame({'filename': filenames, 'category': categories})\n",
    "\n",
    "output_path = './submission/EfficientNet/b3_v1.csv'\n",
    "if os.path.exists(output_path):\n",
    "    raise FileExistsError('[ERROR] Submission file already exist, please change output path')\n",
    "else:\n",
    "    df.to_csv(output_path, index=False)"
   ]
  },
  {
   "cell_type": "markdown",
   "metadata": {},
   "source": [
    "### predict probability for ensemble method"
   ]
  },
  {
   "cell_type": "code",
   "execution_count": 40,
   "metadata": {},
   "outputs": [
    {
     "data": {
      "text/html": [
       "<div>\n",
       "<style scoped>\n",
       "    .dataframe tbody tr th:only-of-type {\n",
       "        vertical-align: middle;\n",
       "    }\n",
       "\n",
       "    .dataframe tbody tr th {\n",
       "        vertical-align: top;\n",
       "    }\n",
       "\n",
       "    .dataframe thead th {\n",
       "        text-align: right;\n",
       "    }\n",
       "</style>\n",
       "<table border=\"1\" class=\"dataframe\">\n",
       "  <thead>\n",
       "    <tr style=\"text-align: right;\">\n",
       "      <th></th>\n",
       "      <th>filename</th>\n",
       "      <th>0</th>\n",
       "      <th>1</th>\n",
       "      <th>2</th>\n",
       "      <th>3</th>\n",
       "      <th>4</th>\n",
       "      <th>5</th>\n",
       "      <th>6</th>\n",
       "      <th>7</th>\n",
       "      <th>8</th>\n",
       "      <th>...</th>\n",
       "      <th>32</th>\n",
       "      <th>33</th>\n",
       "      <th>34</th>\n",
       "      <th>35</th>\n",
       "      <th>36</th>\n",
       "      <th>37</th>\n",
       "      <th>38</th>\n",
       "      <th>39</th>\n",
       "      <th>40</th>\n",
       "      <th>41</th>\n",
       "    </tr>\n",
       "  </thead>\n",
       "  <tbody>\n",
       "    <tr>\n",
       "      <th>0</th>\n",
       "      <td>fd663cf2b6e1d7b02938c6aaae0a32d2.jpg</td>\n",
       "      <td>16.695902</td>\n",
       "      <td>-36.201328</td>\n",
       "      <td>58.980919</td>\n",
       "      <td>1.614652</td>\n",
       "      <td>51.591236</td>\n",
       "      <td>13.293336</td>\n",
       "      <td>-17.852489</td>\n",
       "      <td>34.784733</td>\n",
       "      <td>15.962917</td>\n",
       "      <td>...</td>\n",
       "      <td>21.361414</td>\n",
       "      <td>5.712780</td>\n",
       "      <td>36.532379</td>\n",
       "      <td>-19.003777</td>\n",
       "      <td>-6.449189</td>\n",
       "      <td>-17.838243</td>\n",
       "      <td>18.672947</td>\n",
       "      <td>-32.386887</td>\n",
       "      <td>13.563140</td>\n",
       "      <td>75.315491</td>\n",
       "    </tr>\n",
       "    <tr>\n",
       "      <th>1</th>\n",
       "      <td>c7fd77508a8c355eaab0d4e10efd6b15.jpg</td>\n",
       "      <td>-53.075459</td>\n",
       "      <td>-78.847702</td>\n",
       "      <td>-41.815739</td>\n",
       "      <td>-55.163521</td>\n",
       "      <td>-58.689976</td>\n",
       "      <td>4.952919</td>\n",
       "      <td>-72.957359</td>\n",
       "      <td>-50.608402</td>\n",
       "      <td>3.467971</td>\n",
       "      <td>...</td>\n",
       "      <td>16.982698</td>\n",
       "      <td>-33.724979</td>\n",
       "      <td>16.903425</td>\n",
       "      <td>-50.193691</td>\n",
       "      <td>81.529091</td>\n",
       "      <td>-54.419518</td>\n",
       "      <td>84.170631</td>\n",
       "      <td>8.955645</td>\n",
       "      <td>16.562439</td>\n",
       "      <td>23.564457</td>\n",
       "    </tr>\n",
       "    <tr>\n",
       "      <th>2</th>\n",
       "      <td>127f3e6d6e3491b2459812353f33a913.jpg</td>\n",
       "      <td>-36.251041</td>\n",
       "      <td>-46.770401</td>\n",
       "      <td>-33.250061</td>\n",
       "      <td>-3.830712</td>\n",
       "      <td>31.129425</td>\n",
       "      <td>-73.197792</td>\n",
       "      <td>-204.648819</td>\n",
       "      <td>-71.948158</td>\n",
       "      <td>-84.096298</td>\n",
       "      <td>...</td>\n",
       "      <td>-34.667522</td>\n",
       "      <td>-79.671089</td>\n",
       "      <td>-81.297340</td>\n",
       "      <td>-119.642227</td>\n",
       "      <td>-30.010406</td>\n",
       "      <td>-109.860809</td>\n",
       "      <td>-73.154709</td>\n",
       "      <td>-125.878555</td>\n",
       "      <td>-60.693352</td>\n",
       "      <td>-12.416172</td>\n",
       "    </tr>\n",
       "    <tr>\n",
       "      <th>3</th>\n",
       "      <td>5ca4f2da11eda083064e6c36f37eeb81.jpg</td>\n",
       "      <td>-82.446228</td>\n",
       "      <td>-107.006142</td>\n",
       "      <td>-10.706336</td>\n",
       "      <td>-11.712032</td>\n",
       "      <td>-31.671200</td>\n",
       "      <td>-59.663666</td>\n",
       "      <td>-62.395592</td>\n",
       "      <td>-44.479958</td>\n",
       "      <td>-59.401901</td>\n",
       "      <td>...</td>\n",
       "      <td>35.872925</td>\n",
       "      <td>3.736557</td>\n",
       "      <td>-16.101139</td>\n",
       "      <td>-8.906132</td>\n",
       "      <td>44.259792</td>\n",
       "      <td>3.295516</td>\n",
       "      <td>-15.485658</td>\n",
       "      <td>1.668562</td>\n",
       "      <td>-25.264904</td>\n",
       "      <td>-26.167925</td>\n",
       "    </tr>\n",
       "    <tr>\n",
       "      <th>4</th>\n",
       "      <td>46d681a542f2c71be017eef6aae23313.jpg</td>\n",
       "      <td>17.497965</td>\n",
       "      <td>14.791681</td>\n",
       "      <td>32.389725</td>\n",
       "      <td>-6.474938</td>\n",
       "      <td>17.631119</td>\n",
       "      <td>-38.943657</td>\n",
       "      <td>-7.876534</td>\n",
       "      <td>-3.170712</td>\n",
       "      <td>29.897381</td>\n",
       "      <td>...</td>\n",
       "      <td>33.100891</td>\n",
       "      <td>-3.814386</td>\n",
       "      <td>-49.428333</td>\n",
       "      <td>4.456917</td>\n",
       "      <td>15.624740</td>\n",
       "      <td>12.667063</td>\n",
       "      <td>14.100931</td>\n",
       "      <td>-17.583696</td>\n",
       "      <td>-6.945380</td>\n",
       "      <td>8.763266</td>\n",
       "    </tr>\n",
       "  </tbody>\n",
       "</table>\n",
       "<p>5 rows × 43 columns</p>\n",
       "</div>"
      ],
      "text/plain": [
       "                               filename          0           1          2  \\\n",
       "0  fd663cf2b6e1d7b02938c6aaae0a32d2.jpg  16.695902  -36.201328  58.980919   \n",
       "1  c7fd77508a8c355eaab0d4e10efd6b15.jpg -53.075459  -78.847702 -41.815739   \n",
       "2  127f3e6d6e3491b2459812353f33a913.jpg -36.251041  -46.770401 -33.250061   \n",
       "3  5ca4f2da11eda083064e6c36f37eeb81.jpg -82.446228 -107.006142 -10.706336   \n",
       "4  46d681a542f2c71be017eef6aae23313.jpg  17.497965   14.791681  32.389725   \n",
       "\n",
       "           3          4          5           6          7          8  \\\n",
       "0   1.614652  51.591236  13.293336  -17.852489  34.784733  15.962917   \n",
       "1 -55.163521 -58.689976   4.952919  -72.957359 -50.608402   3.467971   \n",
       "2  -3.830712  31.129425 -73.197792 -204.648819 -71.948158 -84.096298   \n",
       "3 -11.712032 -31.671200 -59.663666  -62.395592 -44.479958 -59.401901   \n",
       "4  -6.474938  17.631119 -38.943657   -7.876534  -3.170712  29.897381   \n",
       "\n",
       "     ...             32         33         34          35         36  \\\n",
       "0    ...      21.361414   5.712780  36.532379  -19.003777  -6.449189   \n",
       "1    ...      16.982698 -33.724979  16.903425  -50.193691  81.529091   \n",
       "2    ...     -34.667522 -79.671089 -81.297340 -119.642227 -30.010406   \n",
       "3    ...      35.872925   3.736557 -16.101139   -8.906132  44.259792   \n",
       "4    ...      33.100891  -3.814386 -49.428333    4.456917  15.624740   \n",
       "\n",
       "           37         38          39         40         41  \n",
       "0  -17.838243  18.672947  -32.386887  13.563140  75.315491  \n",
       "1  -54.419518  84.170631    8.955645  16.562439  23.564457  \n",
       "2 -109.860809 -73.154709 -125.878555 -60.693352 -12.416172  \n",
       "3    3.295516 -15.485658    1.668562 -25.264904 -26.167925  \n",
       "4   12.667063  14.100931  -17.583696  -6.945380   8.763266  \n",
       "\n",
       "[5 rows x 43 columns]"
      ]
     },
     "execution_count": 40,
     "metadata": {},
     "output_type": "execute_result"
    }
   ],
   "source": [
    "df = pd.DataFrame({'filename': filenames})\n",
    "\n",
    "# categories col\n",
    "res_p = np.array(res_p)\n",
    "for category in range(res_p.shape[1]): # 42\n",
    "    df[category] = res_p[:,category]\n",
    "    \n",
    "df.head()"
   ]
  },
  {
   "cell_type": "code",
   "execution_count": 47,
   "metadata": {},
   "outputs": [
    {
     "ename": "FileExistsError",
     "evalue": "[ERROR] Submission file already exist, please change output path",
     "output_type": "error",
     "traceback": [
      "\u001b[0;31m---------------------------------------------------------------------------\u001b[0m",
      "\u001b[0;31mFileExistsError\u001b[0m                           Traceback (most recent call last)",
      "\u001b[0;32m<ipython-input-47-ae07ac81565b>\u001b[0m in \u001b[0;36m<module>\u001b[0;34m\u001b[0m\n\u001b[1;32m      1\u001b[0m \u001b[0moutput_path\u001b[0m \u001b[0;34m=\u001b[0m \u001b[0;34m'./prediction/EfficientNet/b0_v1.csv'\u001b[0m\u001b[0;34m\u001b[0m\u001b[0;34m\u001b[0m\u001b[0m\n\u001b[1;32m      2\u001b[0m \u001b[0;32mif\u001b[0m \u001b[0mos\u001b[0m\u001b[0;34m.\u001b[0m\u001b[0mpath\u001b[0m\u001b[0;34m.\u001b[0m\u001b[0mexists\u001b[0m\u001b[0;34m(\u001b[0m\u001b[0moutput_path\u001b[0m\u001b[0;34m)\u001b[0m\u001b[0;34m:\u001b[0m\u001b[0;34m\u001b[0m\u001b[0;34m\u001b[0m\u001b[0m\n\u001b[0;32m----> 3\u001b[0;31m     \u001b[0;32mraise\u001b[0m \u001b[0mFileExistsError\u001b[0m\u001b[0;34m(\u001b[0m\u001b[0;34m'[ERROR] Submission file already exist, please change output path'\u001b[0m\u001b[0;34m)\u001b[0m\u001b[0;34m\u001b[0m\u001b[0;34m\u001b[0m\u001b[0m\n\u001b[0m\u001b[1;32m      4\u001b[0m \u001b[0;32melse\u001b[0m\u001b[0;34m:\u001b[0m\u001b[0;34m\u001b[0m\u001b[0;34m\u001b[0m\u001b[0m\n\u001b[1;32m      5\u001b[0m     \u001b[0mdf\u001b[0m\u001b[0;34m.\u001b[0m\u001b[0mto_csv\u001b[0m\u001b[0;34m(\u001b[0m\u001b[0moutput_path\u001b[0m\u001b[0;34m,\u001b[0m \u001b[0mindex\u001b[0m\u001b[0;34m=\u001b[0m\u001b[0;32mFalse\u001b[0m\u001b[0;34m)\u001b[0m\u001b[0;34m\u001b[0m\u001b[0;34m\u001b[0m\u001b[0m\n",
      "\u001b[0;31mFileExistsError\u001b[0m: [ERROR] Submission file already exist, please change output path"
     ]
    }
   ],
   "source": [
    "output_path = './prediction/EfficientNet/b0_v1.csv'\n",
    "if os.path.exists(output_path):\n",
    "    raise FileExistsError('[ERROR] Submission file already exist, please change output path')\n",
    "else:\n",
    "    df.to_csv(output_path, index=False)"
   ]
  },
  {
   "cell_type": "code",
   "execution_count": null,
   "metadata": {},
   "outputs": [],
   "source": []
  }
 ],
 "metadata": {
  "kernelspec": {
   "display_name": "Python 3",
   "language": "python",
   "name": "python3"
  }
 },
 "nbformat": 4,
 "nbformat_minor": 2
}
